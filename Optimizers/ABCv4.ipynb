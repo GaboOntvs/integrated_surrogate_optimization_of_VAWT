{
 "cells": [
  {
   "cell_type": "markdown",
   "metadata": {},
   "source": [
    "# Artificial Bee Colony Algorithm "
   ]
  },
  {
   "cell_type": "markdown",
   "metadata": {},
   "source": [
    "## Inicialización"
   ]
  },
  {
   "cell_type": "code",
   "execution_count": 6,
   "metadata": {},
   "outputs": [],
   "source": [
    "# from joblib import dump, load\n",
    "\n",
    "import copy \n",
    "import numpy as np \n",
    "from random import randint\n",
    "from random import random\n",
    "from random import uniform\n",
    "import operator"
   ]
  },
  {
   "cell_type": "markdown",
   "metadata": {},
   "source": [
    "## Cálculo de la Aptitud "
   ]
  },
  {
   "cell_type": "code",
   "execution_count": 7,
   "metadata": {},
   "outputs": [],
   "source": [
    "def AptitudProporcional(objective,population,case=\"minimo\"):   \n",
    "  aptitud=list()\n",
    "  for individuo in population:    \n",
    "    if case == \"minimo\":\n",
    "      aptitud.append(1/objective([individuo]))\n",
    "    elif case == \"maximo\":\n",
    "      aptitud.append(objective([individuo]))\n",
    "    else:\n",
    "      aptitud.append(1/objective([individuo]))\n",
    "  fS=sum(aptitud)\n",
    "  prob=list()\n",
    "  for app in aptitud:\n",
    "    prob.append(float(app/fS))\n",
    "  return aptitud,prob"
   ]
  },
  {
   "cell_type": "markdown",
   "metadata": {},
   "source": [
    "## Mecanismos de selección "
   ]
  },
  {
   "cell_type": "markdown",
   "metadata": {},
   "source": [
    "### Selección voraz"
   ]
  },
  {
   "cell_type": "code",
   "execution_count": null,
   "metadata": {},
   "outputs": [],
   "source": [
    "def greedySelection(index,oldSolution, newSolution, oldAptitud, newAptitud, counter):\n",
    "  if newAptitud > oldAptitud: oldSolution = newSolution\n",
    "  else: counter[index] = counter[index]+1\n",
    "  return oldSolution, counter"
   ]
  },
  {
   "cell_type": "markdown",
   "metadata": {},
   "source": [
    "### Selección por Ruleta"
   ]
  },
  {
   "cell_type": "code",
   "execution_count": 8,
   "metadata": {},
   "outputs": [],
   "source": [
    "def SeleccionRuletaBee (Probabilidades,foodSources,i=False):\n",
    "  cumulative_sum = list()  \n",
    "  #Hacer la suma acumulativa\n",
    "  for index,prob in enumerate(Probabilidades):\n",
    "    cumulative_sum.append(sum(Probabilidades[index:]))\n",
    "  #Seleccionar de acuerdo con su probabilidad  \n",
    "  p = random()  \n",
    "  for index,cum_sum in enumerate(cumulative_sum):\n",
    "    if index < len(cumulative_sum)-1:\n",
    "      if cumulative_sum[index+1] < p and p <= cumulative_sum[index]: \n",
    "        OnlookerBee = index #foodSources[index]\n",
    "        break\n",
    "    else:\n",
    "      if 0 < p and p <= cumulative_sum[index]:\n",
    "        OnlookerBee = index \n",
    "        break\n",
    "  return OnlookerBee"
   ]
  },
  {
   "cell_type": "markdown",
   "metadata": {},
   "source": [
    "### Selección por Valor Esperado"
   ]
  },
  {
   "cell_type": "code",
   "execution_count": null,
   "metadata": {},
   "outputs": [],
   "source": [
    "def ValorEsperadoBee(Probabilidades,foodSources,i):\n",
    "  Expected=list()\n",
    "  OnlookerBee = list()\n",
    "  n = len(foodSources)\n",
    "  for proba in Probabilidades:\n",
    "    Expected.append(proba*n)\n",
    "  # print(Expected)\n",
    "  roundExpected = [round(e) for e in Expected]\n",
    "  for j in range(roundExpected[i]):\n",
    "    OnlookerBee.append(i)\n",
    "  return OnlookerBee"
   ]
  },
  {
   "cell_type": "markdown",
   "metadata": {},
   "source": [
    "## Exploración y explotación "
   ]
  },
  {
   "cell_type": "code",
   "execution_count": 9,
   "metadata": {},
   "outputs": [],
   "source": [
    "#Scout Bees mechanism  \n",
    "def scout(limits): \n",
    "  candidateSolution = list()\n",
    "  for limit in limits:\n",
    "    candidateSolution.append(uniform(limit[0],limit[1]))    \n",
    "  return candidateSolution\n",
    "\n",
    "#Local search for new food sources\n",
    "def localSearchFood(index, employedBees):\n",
    "  iguales = True\n",
    "  while (iguales):\n",
    "    k = randint(0,len(employedBees)-1)\n",
    "    if k != index: iguales = False\n",
    "  j = randint(0,len(employedBees[k])-1)\n",
    "  PHI = uniform(-1,1) \n",
    "  copyBee = copy.deepcopy(employedBees[index])\n",
    "  copyBee[j] = employedBees[index][j] + PHI*(employedBees[k][j] - employedBees[index][j])    \n",
    "  return copyBee"
   ]
  },
  {
   "cell_type": "markdown",
   "metadata": {},
   "source": [
    "## Integración del algoritmo "
   ]
  },
  {
   "cell_type": "code",
   "execution_count": 5,
   "metadata": {},
   "outputs": [],
   "source": [
    "def beeColony(problema, numEBees, numOBees, limits, Niterations,seleccion, steps, case=\"minimo\"):\n",
    "  print('Inicializando algoritmo')\n",
    "  Historico = list()\n",
    "  # HistoricoApt = list()\n",
    "  Best = None\n",
    "  HistBest = list()\n",
    "\n",
    "  stepCounter = [0]*numEBees\n",
    "  #INITIALIZATION PHASE\n",
    "  employedBees = list()\n",
    "  for i in range(numEBees):\n",
    "    employedBees.append(scout(limits))\n",
    "  aptitud, probabilidad = AptitudProporcional(problema,employedBees,case)\n",
    "  Historico.append(employedBees)\n",
    "  # HistoricoApt.append(aptitud)\n",
    "  \n",
    "  print('Ejecutando optimizacion con Artificial Bee Colony Algorithm...')\n",
    "  for n in range(Niterations):\n",
    "    #EMPLOYED BEES PHASE    \n",
    "    newCandidateSolutions = list() \n",
    "    for i in range(numEBees):\n",
    "      newCandidateSol = localSearchFood(i, employedBees)\n",
    "      newApt, newProb = AptitudProporcional(problema,[newCandidateSol],case)     \n",
    "      selectedSource, stepCounter = greedySelection(i,employedBees[i],newCandidateSol,aptitud[i],newApt[0],stepCounter)\n",
    "      newCandidateSolutions.append(selectedSource)                      \n",
    "    employedBees = copy.deepcopy(newCandidateSolutions)\n",
    "    aptitud, probabilidad = AptitudProporcional(problema,employedBees,case)\n",
    "\n",
    "    #ONLOOKER BEES PHASES\n",
    "    # at this point newCandidateSolutions = employedBees\n",
    "    for i in range(numOBees):\n",
    "      OnlookerBee = seleccion(probabilidad,employedBees)\n",
    "      newCandidateSol = localSearchFood(OnlookerBee,employedBees)\n",
    "      apt, prob = AptitudProporcional(problema,[newCandidateSolutions[OnlookerBee]],case)     \n",
    "      newApt, newProb = AptitudProporcional(problema,[newCandidateSol],case)     \n",
    "      selectedSource, stepCounter = greedySelection(OnlookerBee,newCandidateSolutions[OnlookerBee],newCandidateSol,apt,newApt,stepCounter)\n",
    "      newCandidateSolutions[OnlookerBee] = selectedSource\n",
    "    employedBees = copy.deepcopy(newCandidateSolutions)   \n",
    "    aptitud, probabilidad = AptitudProporcional(problema,employedBees,case) \n",
    "\n",
    "    Historico.append(employedBees)\n",
    "    # HistoricoApt.append(aptitud)\n",
    "    bestIndex, bestApt = max(enumerate(aptitud), key=operator.itemgetter(1))\n",
    "    newBest = employedBees[bestIndex]\n",
    "    if len(HistBest)==0 or  bestApt >= Best:\n",
    "      Best = bestApt\n",
    "      HistBest.append(newBest)\n",
    "\n",
    "    #SCOUT BEES PHASE\n",
    "    # c=0\n",
    "    for index,step in enumerate(stepCounter):\n",
    "      if step > steps:\n",
    "        # c +=1\n",
    "        employedBees[index] = scout(limits)\n",
    "        stepCounter[index] = 0\n",
    "    aptitud, probabilidad = AptitudProporcional(problema,employedBees,case)\n",
    "  # print(stepCounter)\n",
    "  # print(c)\n",
    "  print('Optimizacion finalizada')\n",
    "  return [Historico,HistBest]"
   ]
  },
  {
   "cell_type": "code",
   "execution_count": 32,
   "metadata": {},
   "outputs": [],
   "source": [
    "# ModeloRFR = load('ModeloRFR_2.joblib')"
   ]
  },
  {
   "cell_type": "code",
   "execution_count": 22,
   "metadata": {},
   "outputs": [],
   "source": [
    "# Geometria = [47.5,0.15,198]\n",
    "# entrada = list()\n",
    "# for i in np.arange(0.1,0.9,0.1):\n",
    "#     entrada.append(Geometria+[i])\n",
    "#     np.array(entrada)\n",
    "# ModeloRFR.predict(entrada)"
   ]
  },
  {
   "cell_type": "code",
   "execution_count": 23,
   "metadata": {},
   "outputs": [],
   "source": [
    "# HistorialPob, HistSoluciones = beeColony(ModeloRFR,10,10,[[40,90],[0.1,0.3],[140,200],[0.4,0.7]],100,SeleccionRuletaBee,60,case='maximo')"
   ]
  }
 ],
 "metadata": {
  "kernelspec": {
   "display_name": "Python 3",
   "language": "python",
   "name": "python3"
  },
  "language_info": {
   "codemirror_mode": {
    "name": "ipython",
    "version": 3
   },
   "file_extension": ".py",
   "mimetype": "text/x-python",
   "name": "python",
   "nbconvert_exporter": "python",
   "pygments_lexer": "ipython3",
   "version": "3.8.5"
  }
 },
 "nbformat": 4,
 "nbformat_minor": 4
}
