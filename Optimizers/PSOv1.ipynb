{
 "cells": [
  {
   "cell_type": "code",
   "execution_count": 1,
   "metadata": {
    "colab": {},
    "colab_type": "code",
    "id": "PV3DWxipzxIo"
   },
   "outputs": [],
   "source": [
    "from sympy import *\n",
    "import numpy as np\n",
    "import copy\n",
    "import math\n",
    "import pandas as pd\n",
    "import itertools\n",
    "import time\n",
    "import pylab as pl\n",
    "from IPython import display\n"
   ]
  },
  {
   "cell_type": "code",
   "execution_count": 5,
   "metadata": {
    "colab": {},
    "colab_type": "code",
    "id": "BT2roGpQ1Awv"
   },
   "outputs": [],
   "source": [
    "def pso(objective,poblacion,CogConst,SocialConst,Inertia={\"min\":.01 ,\"max\":1,\"delta\":0.95,\"gen\":10},\n",
    "        iterations=1,case=\"minimo\",figure=False):\n",
    "  \n",
    "  print('Inicializando algoritmo...')\n",
    "  # selector de direccion \n",
    "  if case == \"minimo\":\n",
    "    funcion = lambda obNew,obOld : obNew < obOld\n",
    "    Gbest={\"value\":1000000000000000000000,\"position\":False}\n",
    "  elif case == \"maximo\":\n",
    "#     print(\"entro\")\n",
    "    funcion = lambda obNew,obOld : obNew >= obOld #Se había cambiado la condicion a >=\n",
    "    Gbest={\"value\":-1000000000000000000000,\"position\":False}\n",
    "  else:\n",
    "    Gbest={\"value\":1000000000000000000000,\"position\":False}\n",
    "    funcion = lambda obNew,obOld : obNew < obOld\n",
    "\n",
    "  # incializacion de inercia \n",
    "  Wi=Inertia[\"max\"]\n",
    "  #inicializaciones de mejores locales\n",
    "  for particle in poblacion:    \n",
    "    perform = objective([particle[\"position\"]])\n",
    "    particle[\"Pbest\"]={\"value\":perform,\"position\":particle[\"position\"]}          \n",
    "  \n",
    "  GbestHist = list()\n",
    "  print('Realizando optimizacion con PSO..')\n",
    "  for i in range(iterations):\n",
    "  #ajuste de mejores   \n",
    "    for particle in poblacion:\n",
    "      if 40<=particle[\"position\"][0]<=90 and 0.1<=particle[\"position\"][1]<=0.3 and 140<=particle[\"position\"][2]<=200 and 0.4<=particle[\"position\"][3]<=0.6: \n",
    "        perform = objective([particle[\"position\"]])\n",
    "      else: \n",
    "        perform = -1000000000000000000000\n",
    "      if funcion(perform,particle[\"Pbest\"][\"value\"]):\n",
    "        particle[\"Pbest\"]={\"value\":perform,\"position\":particle[\"position\"]}\n",
    "      if funcion(perform,Gbest[\"value\"]):\n",
    "        Gbest[\"value\"]=perform\n",
    "        Gbest[\"position\"]=particle[\"position\"]\n",
    "        GbestHist.append(Gbest)\n",
    "\n",
    "  \n",
    "\n",
    "    for particle in poblacion:\n",
    "      #generacion de aleatorios \n",
    "      R0=np.random.uniform()\n",
    "      R1=np.random.uniform()\n",
    "      R2=np.random.uniform()\n",
    "      #velocity update\n",
    "      #Componente Inercial\n",
    "      #iner=list(map((Wi).__mul__, particle[\"speed\"]))\n",
    "      iner=np.array(particle[\"speed\"])*Wi*R0\n",
    "      #(iner)\n",
    "      #Componente cognitivo\n",
    "      cog=CogConst*R1*(np.array(particle[\"Pbest\"][\"position\"])-np.array(particle[\"position\"]))\n",
    "      #print(cog)\n",
    "      #Componente social\n",
    "      social=SocialConst*R2*(np.array(Gbest[\"position\"])-np.array(particle[\"position\"]))\n",
    "      #print(social)\n",
    "#       print('Aporte de inercia',iner)\n",
    "#       print('Aporte cognitivo',cog)\n",
    "#       print('Aporte social',social)\n",
    "      vel=iner+cog+social\n",
    "      #print(vel)\n",
    "      #print(particle[\"position\"])\n",
    "      pos = list(np.array(particle[\"position\"]) + vel)\n",
    "      \n",
    "#       if 40<pos[0]<90 and 0.1<pos[1]<0.3 and 140<pos[2]<200 and 0.4<pos[3]<0.6:            \n",
    "#         print(pos)\n",
    "      particle[\"position\"] = pos\n",
    "      particle[\"speed\"] = list(vel)\n",
    "    #print(poblacion)\n",
    "#     if figure:\n",
    "#         solutionPrint(objective,figure[0], figure[1], poblacion)\n",
    "    #ajustar inertia \n",
    "    if i % Inertia[\"gen\"]==0 and Wi>Inertia[\"min\"] :\n",
    "      Wi=Wi*Inertia[\"delta\"]\n",
    "  print('Optimizacion finalizada.')\n",
    "  return poblacion,Gbest,GbestHist"
   ]
  },
  {
   "cell_type": "code",
   "execution_count": 3,
   "metadata": {
    "colab": {},
    "colab_type": "code",
    "id": "ruZEr6v-TS4Z"
   },
   "outputs": [],
   "source": [
    "def poblation_creation(VariableLimits,populationNumber):\n",
    "  casos=list()\n",
    "  for variable in  VariableLimits:\n",
    "    elemento=list(np.linspace(variable[\"lower\"],variable[\"upper\"],int(populationNumber**(1/len( VariableLimits)))))\n",
    "    casos.append(elemento)\n",
    "\n",
    "  Combinations=itertools.product(*casos)\n",
    "  \n",
    "  #Poblacion=[ {\"position\"=[3,4],\"speed\"=[]}]\n",
    "  Poblacion=list()\n",
    "  for case in Combinations:\n",
    "    Poblacion.append({\"position\":list(case),\"speed\":list( np.random.uniform(size=len(case)))})\n",
    "  return Poblacion"
   ]
  },
  {
   "cell_type": "code",
   "execution_count": 7,
   "metadata": {},
   "outputs": [],
   "source": [
    "VariableLimits=[{\"name\":\"x\",\"upper\":5,\"lower\":-5},{\"name\":\"y\",\"upper\":5,\"lower\":-5}]\n",
    "Pobla_uniforme=poblation_creation(VariableLimits,25)\n",
    "# Pobla_uniforme"
   ]
  },
  {
   "cell_type": "code",
   "execution_count": 9,
   "metadata": {},
   "outputs": [],
   "source": [
    "def prob_elipse(Parametros):\n",
    "  ''' modelo de la elipse'''\n",
    "  #definición de los objetivos\n",
    "  x=Symbol('x')\n",
    "  y=Symbol('y')\n",
    "\n",
    "  A=x**2+y**2\n",
    "  objetivo=A.subs([[x,Parametros[0]],[y,Parametros[1]]])\n",
    "  \n",
    "  return objetivo"
   ]
  },
  {
   "cell_type": "code",
   "execution_count": 12,
   "metadata": {
    "colab": {
     "base_uri": "https://localhost:8080/",
     "height": 319
    },
    "colab_type": "code",
    "executionInfo": {
     "elapsed": 3468,
     "status": "ok",
     "timestamp": 1583341078608,
     "user": {
      "displayName": "Carlos Duchanoy",
      "photoUrl": "https://lh3.googleusercontent.com/a-/AOh14Gijq6COV_WZCFh0IXuUj9j4BMptuw_o3dlJS6mFfg=s64",
      "userId": "06916579791066221601"
     },
     "user_tz": 360
    },
    "id": "k1xehoPkUgFz",
    "outputId": "02606589-dfa7-4717-8980-56bb4af2459e"
   },
   "outputs": [],
   "source": [
    "# Poblacion,mejor=pso(prob_elipse,Pobla_uniforme,CogConst=1,SocialConst=1,Inertia={\"min\":0 ,\"max\":1,\"delta\":0.95,\"gen\":10},iterations=100)"
   ]
  },
  {
   "cell_type": "code",
   "execution_count": 13,
   "metadata": {},
   "outputs": [
    {
     "name": "stdout",
     "output_type": "stream",
     "text": [
      "Mejor solucion: {'value': 6.49469971868384e-119, 'position': [7.850660886613553e-60, 1.8204726941743753e-60]}\n"
     ]
    }
   ],
   "source": [
    "# print('Mejor solucion:',mejor)"
   ]
  }
 ],
 "metadata": {
  "colab": {
   "authorship_tag": "ABX9TyOi/LQn9WE87tbJq/mIkw+e",
   "name": "PSO_test.ipynb",
   "provenance": []
  },
  "kernelspec": {
   "display_name": "Python 3",
   "language": "python",
   "name": "python3"
  },
  "language_info": {
   "codemirror_mode": {
    "name": "ipython",
    "version": 3
   },
   "file_extension": ".py",
   "mimetype": "text/x-python",
   "name": "python",
   "nbconvert_exporter": "python",
   "pygments_lexer": "ipython3",
   "version": "3.8.5"
  }
 },
 "nbformat": 4,
 "nbformat_minor": 1
}
