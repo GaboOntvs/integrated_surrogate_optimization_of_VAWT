{
 "cells": [
  {
   "cell_type": "markdown",
   "metadata": {
    "colab_type": "text",
    "id": "_30QQbXW1-Bc"
   },
   "source": [
    "# Algoritmo Genético"
   ]
  },
  {
   "cell_type": "code",
   "execution_count": 4,
   "metadata": {
    "colab": {},
    "colab_type": "code",
    "executionInfo": {
     "elapsed": 4107,
     "status": "ok",
     "timestamp": 1593065218804,
     "user": {
      "displayName": "Gabriel Ibarra Ontiveros",
      "photoUrl": "",
      "userId": "09517266304791574662"
     },
     "user_tz": 300
    },
    "id": "bnz1-EWG1kw6"
   },
   "outputs": [],
   "source": [
    "from sympy import *\n",
    "import numpy as np\n",
    "import matplotlib.pyplot as plt\n",
    "import copy\n",
    "from mpl_toolkits.mplot3d import axes3d, Axes3D\n",
    "from matplotlib import cm\n",
    "import math\n",
    "import pandas as pd\n",
    "import random as rnd\n",
    "from random import random\n",
    "import functools\n",
    "\n",
    "# !pip install -U -q PyDrive\n",
    "# from pydrive.auth import GoogleAuth\n",
    "# from pydrive.drive import GoogleDrive\n",
    "# from google.colab import auth\n",
    "# from oauth2client.client import GoogleCredentials"
   ]
  },
  {
   "cell_type": "markdown",
   "metadata": {
    "colab_type": "text",
    "id": "W0agyffK6usN"
   },
   "source": [
    "## Planteamiento de Problemas"
   ]
  },
  {
   "cell_type": "markdown",
   "metadata": {
    "colab_type": "text",
    "id": "vK8nlUI9Dnfb"
   },
   "source": [
    "### Plan de Inversión"
   ]
  },
  {
   "cell_type": "code",
   "execution_count": 1,
   "metadata": {
    "colab": {},
    "colab_type": "code",
    "executionInfo": {
     "elapsed": 409,
     "status": "ok",
     "timestamp": 1593064866689,
     "user": {
      "displayName": "Gabriel Ibarra Ontiveros",
      "photoUrl": "",
      "userId": "09517266304791574662"
     },
     "user_tz": 300
    },
    "id": "k7Wkx7GeDtOz"
   },
   "outputs": [],
   "source": [
    "'''Este problema busca la maxima rentabilidad para una inversion'''\n",
    "def problema_inversion(parametros):\n",
    "  x = symbols('x')\n",
    "  R = -0.001*x**2+0.4*x+3.5\n",
    "  objetivo = R.subs([[x,parametros[0]]])\n",
    "  return objetivo\n",
    "  "
   ]
  },
  {
   "cell_type": "markdown",
   "metadata": {
    "colab_type": "text",
    "id": "PtV1n2n99ELr"
   },
   "source": [
    "## Generar Población Inicial"
   ]
  },
  {
   "cell_type": "code",
   "execution_count": 2,
   "metadata": {
    "colab": {},
    "colab_type": "code",
    "executionInfo": {
     "elapsed": 379,
     "status": "ok",
     "timestamp": 1593066391474,
     "user": {
      "displayName": "Gabriel Ibarra Ontiveros",
      "photoUrl": "",
      "userId": "09517266304791574662"
     },
     "user_tz": 300
    },
    "id": "_rALsQk69HXF"
   },
   "outputs": [],
   "source": [
    "def poblacionInicial(N,limits): \n",
    "  Individuos = list()\n",
    "  for n in range(N):\n",
    "    individuo = list()\n",
    "    for limit in limits:      \n",
    "      individuo.append(limit[0] + rnd.random()*(limit[1]-limit[0]))  \n",
    "    Individuos.append(individuo)\n",
    "  return Individuos"
   ]
  },
  {
   "cell_type": "markdown",
   "metadata": {
    "colab_type": "text",
    "id": "up1uaaHP2TK3"
   },
   "source": [
    "## Métodos de codificación"
   ]
  },
  {
   "cell_type": "markdown",
   "metadata": {
    "colab_type": "text",
    "id": "PpfhH9ZW2YT_"
   },
   "source": [
    "### Codificación Binaria para Enteros"
   ]
  },
  {
   "cell_type": "code",
   "execution_count": 3,
   "metadata": {
    "colab": {},
    "colab_type": "code",
    "executionInfo": {
     "elapsed": 364,
     "status": "ok",
     "timestamp": 1593066408467,
     "user": {
      "displayName": "Gabriel Ibarra Ontiveros",
      "photoUrl": "",
      "userId": "09517266304791574662"
     },
     "user_tz": 300
    },
    "id": "cXLYpM_V2VIZ"
   },
   "outputs": [],
   "source": [
    "def int2bin(entero,param={\"numbits\":10}):\n",
    "  #print(param[\"numbits\"])\n",
    "  code=\"{0:0\"+str(param[\"numbits\"])+\"b}\"\n",
    "  Xbin=code.format(int(round(entero)))\n",
    "  return Xbin\n",
    "\n",
    "def bin2int(Binario,param=False):\n",
    "  entero=int(Binario, 2)\n",
    "  return entero"
   ]
  },
  {
   "cell_type": "markdown",
   "metadata": {
    "colab_type": "text",
    "id": "7LFDFnYe2euI"
   },
   "source": [
    "### Codificación Binaria para Números Reales"
   ]
  },
  {
   "cell_type": "code",
   "execution_count": 5,
   "metadata": {
    "colab": {},
    "colab_type": "code",
    "executionInfo": {
     "elapsed": 480,
     "status": "ok",
     "timestamp": 1593066414454,
     "user": {
      "displayName": "Gabriel Ibarra Ontiveros",
      "photoUrl": "",
      "userId": "09517266304791574662"
     },
     "user_tz": 300
    },
    "id": "DXChO8CN2iLq"
   },
   "outputs": [],
   "source": [
    "def BinaryPrecision(Xu,Xl,e):\n",
    "  n=math.log2((Xu-Xl)/e)\n",
    "  return int(n)\n",
    "\n",
    "def Binary2Real(Xu,Xl,n,Xbin):\n",
    "  Xbin=int(Xbin, 2)\n",
    "  Value=Xl+((Xu-Xl)/((2**n)-1))*Xbin\n",
    "  return Value\n",
    "\n",
    "def Real2Binary(Xu,Xl,n,Value):\n",
    "  Xbin=(Value-Xl)/((Xu-Xl)/((2**n)-1))\n",
    "  code=\"{0:0\"+str(n)+\"b}\"\n",
    "  Xbin=code.format(int(round(Xbin)))\n",
    "  return Xbin\n",
    "\n",
    "def codeBinary2Real(Xbin, param={\"Xu\":0,\"Xl\":0,\"n\":0}):\n",
    "  Xbin=int(Xbin, 2)\n",
    "  Value=param[\"Xl\"]+((param[\"Xu\"]-param[\"Xl\"])/((2**param[\"n\"])-1))*Xbin\n",
    "  return [Value]\n",
    "\n",
    "def codepoblacionReal2bin(poblacion,limits):\n",
    "  code=list()\n",
    "  preV=list()\n",
    "  for parameter in limits:\n",
    "    preV.append(BinaryPrecision(parameter[0],parameter[1],parameter[2]))\n",
    "  for individuo in poblacion:\n",
    "    indcode=\"\"\n",
    "    for index,parameter in enumerate(individuo):\n",
    "      indcode=indcode+Real2Binary(limits[index][0],limits[index][1],preV[index],parameter)\n",
    "    code.append(indcode)\n",
    "  return code,preV"
   ]
  },
  {
   "cell_type": "code",
   "execution_count": 5,
   "metadata": {
    "colab": {},
    "colab_type": "code",
    "executionInfo": {
     "elapsed": 281,
     "status": "ok",
     "timestamp": 1593066414455,
     "user": {
      "displayName": "Gabriel Ibarra Ontiveros",
      "photoUrl": "",
      "userId": "09517266304791574662"
     },
     "user_tz": 300
    },
    "id": "ntffrO232l6_"
   },
   "outputs": [],
   "source": [
    "#Decodificar la poblacion\n",
    "def decodificarPob(poblacion,code,codeParameter):\n",
    "  decoPoblacion = list()   \n",
    "  for indCode in poblacion: \n",
    "    if not isinstance(codeParameter,(bool)):    \n",
    "      decoDesignP = list()\n",
    "      c = 0\n",
    "      for codePar in codeParameter:      \n",
    "        xbin = indCode[c:c+codePar['n']]\n",
    "        decoDesignP.append(code(xbin,codePar)[0])\n",
    "        c = c + codePar['n']\n",
    "      decoPoblacion.append(decoDesignP)   \n",
    "    else: decoPoblacion.append(code(indCode,codeParameter))\n",
    "  return decoPoblacion"
   ]
  },
  {
   "cell_type": "code",
   "execution_count": 6,
   "metadata": {
    "colab": {},
    "colab_type": "code",
    "executionInfo": {
     "elapsed": 213,
     "status": "ok",
     "timestamp": 1593066414636,
     "user": {
      "displayName": "Gabriel Ibarra Ontiveros",
      "photoUrl": "",
      "userId": "09517266304791574662"
     },
     "user_tz": 300
    },
    "id": "LT1HiyTZ2qP5"
   },
   "outputs": [],
   "source": [
    "def noCodification(XbinIN, param=False):\n",
    "  return XbinIN"
   ]
  },
  {
   "cell_type": "markdown",
   "metadata": {
    "colab_type": "text",
    "id": "dKGC0GtX20D8"
   },
   "source": [
    "## Cálculo de la Aptitud"
   ]
  },
  {
   "cell_type": "markdown",
   "metadata": {
    "colab_type": "text",
    "id": "r03Wo7Rq22sI"
   },
   "source": [
    "### Aptitud Proporcional"
   ]
  },
  {
   "cell_type": "code",
   "execution_count": 2,
   "metadata": {
    "colab": {},
    "colab_type": "code",
    "executionInfo": {
     "elapsed": 347,
     "status": "ok",
     "timestamp": 1593066420779,
     "user": {
      "displayName": "Gabriel Ibarra Ontiveros",
      "photoUrl": "",
      "userId": "09517266304791574662"
     },
     "user_tz": 300
    },
    "id": "TAK5uOAX240j"
   },
   "outputs": [],
   "source": [
    "def AptitudProporcional(objective,population,code,codeParam=False,case=\"minimo\"):   \n",
    "  aptitud=list()\n",
    "  #Decodificar la poblacion\n",
    "  decoPoblacion = decodificarPob(population,code,codeParam)  \n",
    "\n",
    "  for individuo in decoPoblacion: #decoPoblacion\n",
    "    if case == \"minimo\":\n",
    "      aptitud.append(1/objective([individuo])) #code(individuo,codeParam)\n",
    "    elif case == \"maximo\":\n",
    "      aptitud.append(objective([individuo])) #code(individuo,codeParam)\n",
    "    else:\n",
    "      aptitud.append(1/objective([individuo])) #code(individuo,codeParam)\n",
    "    \n",
    "  fS=sum(aptitud)\n",
    "  prob=list()\n",
    "  for app in aptitud:\n",
    "    prob.append(float(app/fS))\n",
    "  return aptitud,prob"
   ]
  },
  {
   "cell_type": "markdown",
   "metadata": {
    "colab_type": "text",
    "id": "I-zn48Sz3CZw"
   },
   "source": [
    "## Selección proporcional"
   ]
  },
  {
   "cell_type": "markdown",
   "metadata": {
    "colab_type": "text",
    "id": "h0js4NYb3FFM"
   },
   "source": [
    "### Selección Disruptiva"
   ]
  },
  {
   "cell_type": "code",
   "execution_count": 8,
   "metadata": {
    "colab": {},
    "colab_type": "code",
    "executionInfo": {
     "elapsed": 393,
     "status": "ok",
     "timestamp": 1593066427414,
     "user": {
      "displayName": "Gabriel Ibarra Ontiveros",
      "photoUrl": "",
      "userId": "09517266304791574662"
     },
     "user_tz": 300
    },
    "id": "JXO4N9F_3EQw"
   },
   "outputs": [],
   "source": [
    "def seleccionDisruptiva(poblacion,aptitud,parametros=False):\n",
    "  n = len(poblacion)\n",
    "  padres = list()\n",
    "  expected = list()\n",
    "  aptitudNormalizada = list()\n",
    "  aptitudMedia = float(sum(aptitud)/n)  \n",
    "  for apt in aptitud:\n",
    "    aptitudNormalizada.append(abs(apt-aptitudMedia))\n",
    "  mediaNormalizada = float(sum(aptitudNormalizada)/n)\n",
    "  \n",
    "  for nApt in aptitudNormalizada:\n",
    "    expected.append(nApt/mediaNormalizada)\n",
    "  # print(expected)\n",
    "  roundExpected = [round(e) for e in expected]\n",
    "  # print(sum(roundExpected))\n",
    "  i = 0\n",
    "  while len(padres) < n:#for i in range(n):\n",
    "    for j in range(roundExpected[i]):\n",
    "      if len(padres) < n: padres.append(poblacion[i])\n",
    "    if i == n-1 and len(padres) < n: \n",
    "      mayor = np.argmax(roundExpected)\n",
    "      if mayor > 1: \n",
    "        while len(padres) < n: padres.append(poblacion[mayor])    \n",
    "      else: i = 0            \n",
    "    else: i += 1\n",
    "  rnd.shuffle(padres)\n",
    "  # print(len(padres))\n",
    "  return padres"
   ]
  },
  {
   "cell_type": "markdown",
   "metadata": {
    "colab_type": "text",
    "id": "FZv6t7e83NFn"
   },
   "source": [
    "### Selección por Valor Esperado"
   ]
  },
  {
   "cell_type": "code",
   "execution_count": 9,
   "metadata": {
    "colab": {},
    "colab_type": "code",
    "executionInfo": {
     "elapsed": 344,
     "status": "ok",
     "timestamp": 1593066430416,
     "user": {
      "displayName": "Gabriel Ibarra Ontiveros",
      "photoUrl": "",
      "userId": "09517266304791574662"
     },
     "user_tz": 300
    },
    "id": "FHdG9ZWu3QIc"
   },
   "outputs": [],
   "source": [
    "def ValorEsperado(Poblacion,Probabilidades,parametros=False):\n",
    "  Expected=list()\n",
    "  padres=list()\n",
    "  n = len(Poblacion)\n",
    "  for proba in Probabilidades:\n",
    "    Expected.append(proba*len(Poblacion))\n",
    "  # print(Expected)\n",
    "  roundExpected = [round(e) for e in Expected]\n",
    "  # print(roundExpected,sum(roundExpected))\n",
    "  i = 0\n",
    "  while len(padres) < n:#for i in range(len(Poblacion)):\n",
    "    #print(round(Expected[i]))        \n",
    "    for j in range(roundExpected[i]):\n",
    "      if len(padres) < n: padres.append(Poblacion[i])\n",
    "    if i == n-1 and len(padres) < n: \n",
    "      mayor = np.argmax(roundExpected)\n",
    "      if mayor > 1: \n",
    "        while len(padres) < n: padres.append(Poblacion[mayor])    \n",
    "      else: i = 0            \n",
    "    else: i += 1\n",
    "  \n",
    "  rnd.shuffle(padres)\n",
    "  # print(len(padres))\n",
    "  return padres"
   ]
  },
  {
   "cell_type": "markdown",
   "metadata": {
    "colab_type": "text",
    "id": "boHlCxjv3TGc"
   },
   "source": [
    "### Selección por Ruleta"
   ]
  },
  {
   "cell_type": "code",
   "execution_count": 10,
   "metadata": {
    "colab": {},
    "colab_type": "code",
    "executionInfo": {
     "elapsed": 300,
     "status": "ok",
     "timestamp": 1593066433745,
     "user": {
      "displayName": "Gabriel Ibarra Ontiveros",
      "photoUrl": "",
      "userId": "09517266304791574662"
     },
     "user_tz": 300
    },
    "id": "C-DA4wvL3Yd8"
   },
   "outputs": [],
   "source": [
    "def Ruleta(Poblacion,Probabilidades,parametros=False):\n",
    "  padres=list()\n",
    "  #print(len(Probabilidades))\n",
    "  for i in range(len(Probabilidades)):\n",
    "    meta=random()\n",
    "    index=0\n",
    "    suma=Probabilidades[index]\n",
    "    #print(\"meta\")\n",
    "    #print(meta)\n",
    "    #print(\"sumatoria\")\n",
    "    while suma<=meta:\n",
    "      #print(suma)\n",
    "      index=index+1\n",
    "      suma=suma+Probabilidades[index]\n",
    "    #print(\"indice\")\n",
    "    #print(index)\n",
    "    padres.append(Poblacion[index])\n",
    "  return(padres)"
   ]
  },
  {
   "cell_type": "markdown",
   "metadata": {
    "colab_type": "text",
    "id": "kmt3USHL33V4"
   },
   "source": [
    "### Selección por Sobrante Estocástico"
   ]
  },
  {
   "cell_type": "code",
   "execution_count": 11,
   "metadata": {
    "colab": {},
    "colab_type": "code",
    "executionInfo": {
     "elapsed": 312,
     "status": "ok",
     "timestamp": 1593066436941,
     "user": {
      "displayName": "Gabriel Ibarra Ontiveros",
      "photoUrl": "",
      "userId": "09517266304791574662"
     },
     "user_tz": 300
    },
    "id": "H0xBxgKb37g7"
   },
   "outputs": [],
   "source": [
    "def SobranteEstocastico(Poblacion,Probabilidades,parametros=False):\n",
    "  # Calcular el valor esperado considerando solo los enteros \n",
    "  Expected=list()\n",
    "  restante=list()\n",
    "  padres=list()\n",
    "  for proba in Probabilidades:\n",
    "    Expected.append(proba*len(Poblacion))\n",
    "  #print(Expected)\n",
    "  for i in range(len(Poblacion)):\n",
    "    #print(math.trunc(Expected[i]))\n",
    "    restante.append(Expected[i]-math.trunc(Expected[i]))\n",
    "    for j in range(math.trunc(Expected[i])):\n",
    "      padres.append(Poblacion[i])\n",
    "  #print(restante)\n",
    "  \n",
    "  # Calculo de las nuevas probabilidades\n",
    "  fS=sum(restante)\n",
    "  prob=list()\n",
    "  if  fS!=0:\n",
    "    for app in restante:\n",
    "      prob.append(float(app/fS))\n",
    "  \n",
    "  \n",
    "    #print(prob)\n",
    "    # Seleccion por ruleta\n",
    "    for i in range(len(Probabilidades)-len(padres)):\n",
    "      meta=random()\n",
    "      index=0\n",
    "      suma=Probabilidades[index]\n",
    "      while suma<=meta:\n",
    "        #print(suma)\n",
    "        index=index+1\n",
    "        suma=suma+Probabilidades[index]\n",
    "      #print(index)\n",
    "      padres.append(Poblacion[index])\n",
    "  rnd.shuffle(padres)    \n",
    "  return padres"
   ]
  },
  {
   "cell_type": "markdown",
   "metadata": {
    "colab_type": "text",
    "id": "U06oH7kB383z"
   },
   "source": [
    "### Selección por Universal Estocástico"
   ]
  },
  {
   "cell_type": "code",
   "execution_count": 12,
   "metadata": {
    "colab": {},
    "colab_type": "code",
    "executionInfo": {
     "elapsed": 315,
     "status": "ok",
     "timestamp": 1593066440102,
     "user": {
      "displayName": "Gabriel Ibarra Ontiveros",
      "photoUrl": "",
      "userId": "09517266304791574662"
     },
     "user_tz": 300
    },
    "id": "me1usTMO4AaM"
   },
   "outputs": [],
   "source": [
    "def universalEstocastico(Poblacion,Probabilidades,parametros=False):\n",
    "  padres = list()\n",
    "  Expected=list()\n",
    "  for proba in Probabilidades:\n",
    "    Expected.append(proba*len(Poblacion))\n",
    "  ptr = rnd.random()\n",
    "  # ptr=0.4\n",
    "  index = 0\n",
    "  suma = 0\n",
    "  while len(padres)<len(Poblacion):\n",
    "    suma = suma + Expected[index] \n",
    "    while suma > ptr:\n",
    "      padres.append(Poblacion[index])\n",
    "      ptr += 1\n",
    "    index += 1\n",
    "\n",
    "  rnd.shuffle(padres)\n",
    "  return padres"
   ]
  },
  {
   "cell_type": "markdown",
   "metadata": {
    "colab_type": "text",
    "id": "Umen8heA4So2"
   },
   "source": [
    "### Selección mediante Torneo"
   ]
  },
  {
   "cell_type": "code",
   "execution_count": 13,
   "metadata": {
    "colab": {},
    "colab_type": "code",
    "executionInfo": {
     "elapsed": 370,
     "status": "ok",
     "timestamp": 1593066443879,
     "user": {
      "displayName": "Gabriel Ibarra Ontiveros",
      "photoUrl": "",
      "userId": "09517266304791574662"
     },
     "user_tz": 300
    },
    "id": "SgqoQs474VT_"
   },
   "outputs": [],
   "source": [
    "def torneo(Poblacion,Probabilidades,parametros={\"p\":2}):\n",
    "  baraja=list(range(len(Poblacion)))\n",
    "  padres=list()\n",
    "  for i in range(parametros[\"p\"]):\n",
    "    rnd.shuffle(baraja)\n",
    "    n=0\n",
    "    while n<len(Poblacion): \n",
    "      torneo=baraja[n:n+parametros[\"p\"]]\n",
    "      win=max([Probabilidades[i] for i in torneo])\n",
    "      Iwin=Probabilidades.index(win)\n",
    "      padres.append(Poblacion[Iwin])\n",
    "      \n",
    "      n=n+parametros[\"p\"]\n",
    "      \n",
    "      #print(n)\n",
    "      #print(torneo)\n",
    "      #print(win)\n",
    "      #print(Iwin)\n",
    "      \n",
    "  return padres"
   ]
  },
  {
   "cell_type": "markdown",
   "metadata": {
    "colab_type": "text",
    "id": "4VbaR3X-4ZuL"
   },
   "source": [
    "## Técnicas de Cruza"
   ]
  },
  {
   "cell_type": "markdown",
   "metadata": {
    "colab_type": "text",
    "id": "VI0rnyda4l0L"
   },
   "source": [
    "### Cruza en 1 punto"
   ]
  },
  {
   "cell_type": "code",
   "execution_count": 14,
   "metadata": {
    "colab": {},
    "colab_type": "code",
    "executionInfo": {
     "elapsed": 317,
     "status": "ok",
     "timestamp": 1593066454164,
     "user": {
      "displayName": "Gabriel Ibarra Ontiveros",
      "photoUrl": "",
      "userId": "09517266304791574662"
     },
     "user_tz": 300
    },
    "id": "kRA237BW4nfw"
   },
   "outputs": [],
   "source": [
    "def cruza1Punto(padres,param=False):\n",
    "  hijos=list()\n",
    "  # print(len(padres))\n",
    "  i=0\n",
    "  while i<len(padres):\n",
    "    pareja=copy.deepcopy(padres[i:i+2])\n",
    "    cruze=rnd.randint(1,len(padres[i])-1)\n",
    "    #print(cruze)\n",
    "    hijo1=pareja[0][:cruze]+pareja[1][cruze:]\n",
    "    hijo2=pareja[1][:cruze]+pareja[0][cruze:]\n",
    "    i=i+2\n",
    "    hijos.append(hijo1)\n",
    "    hijos.append(hijo2)\n",
    "    #print(pareja)\n",
    "    #print(cruze)\n",
    "    #print(hijo1)\n",
    "    #print(hijo2)\n",
    "  return hijos"
   ]
  },
  {
   "cell_type": "markdown",
   "metadata": {
    "colab_type": "text",
    "id": "VKX1ksrn4pul"
   },
   "source": [
    "### Cruza en N puntos"
   ]
  },
  {
   "cell_type": "code",
   "execution_count": 15,
   "metadata": {
    "colab": {},
    "colab_type": "code",
    "executionInfo": {
     "elapsed": 357,
     "status": "ok",
     "timestamp": 1593066457513,
     "user": {
      "displayName": "Gabriel Ibarra Ontiveros",
      "photoUrl": "",
      "userId": "09517266304791574662"
     },
     "user_tz": 300
    },
    "id": "6auD3eUV4t9a"
   },
   "outputs": [],
   "source": [
    "def cruzaNPunto(padres,param={\"n\":2}):\n",
    "  hijos=list()\n",
    "  i=0\n",
    "  while i<len(padres):\n",
    "    pareja=copy.deepcopy(padres[i:i+2])\n",
    "    #print(pareja)\n",
    "    hijo1=copy.deepcopy(pareja[0])\n",
    "    hijo2=copy.deepcopy(pareja[1])\n",
    "    for j in range(param['n']):\n",
    "      cruze=rnd.randint(1,len(padres[i])-1)\n",
    "      #print(cruze)\n",
    "      hijoA=hijo1[:cruze]+hijo2[cruze:]\n",
    "      hijoB=hijo2[:cruze]+hijo1[cruze:]\n",
    "      hijo1=hijoA\n",
    "      hijo2=hijoB\n",
    "      #print(hijo1)\n",
    "      #print(hijo2)\n",
    "    \n",
    "    i=i+2\n",
    "    hijos.append(hijo1)\n",
    "    hijos.append(hijo2)\n",
    "    \n",
    "    \n",
    "    \n",
    "  return hijos"
   ]
  },
  {
   "cell_type": "markdown",
   "metadata": {
    "colab_type": "text",
    "id": "TX8e489M404i"
   },
   "source": [
    "### Cruza Uniforme"
   ]
  },
  {
   "cell_type": "code",
   "execution_count": 16,
   "metadata": {
    "colab": {},
    "colab_type": "code",
    "executionInfo": {
     "elapsed": 317,
     "status": "ok",
     "timestamp": 1593066461561,
     "user": {
      "displayName": "Gabriel Ibarra Ontiveros",
      "photoUrl": "",
      "userId": "09517266304791574662"
     },
     "user_tz": 300
    },
    "id": "_oPyS0l743bF"
   },
   "outputs": [],
   "source": [
    "def cruzaUniforme(padres,param=False):\n",
    "  hijos=list()\n",
    "  i=0\n",
    "  while i<len(padres):\n",
    "    pareja=copy.deepcopy(padres[i:i+2])\n",
    "    hijo1=\"\"\n",
    "    hijo2=\"\"\n",
    "    for j in range(len(padres[0])):\n",
    "      selec=rnd.randint(0,1)\n",
    "      #print(selec)\n",
    "      hijo1=hijo1+pareja[selec][j]\n",
    "      hijo2=hijo2+pareja[abs(selec-1)][j]\n",
    "    i=i+2\n",
    "    hijos.append(hijo1)\n",
    "    hijos.append(hijo2)\n",
    "    #print(pareja)\n",
    "    #print(hijo1)\n",
    "    #print(hijo2)\n",
    "  return hijos"
   ]
  },
  {
   "cell_type": "markdown",
   "metadata": {
    "colab_type": "text",
    "id": "tAbG2Fq_JRYh"
   },
   "source": [
    "### Order Cross Over"
   ]
  },
  {
   "cell_type": "code",
   "execution_count": 17,
   "metadata": {
    "colab": {},
    "colab_type": "code",
    "executionInfo": {
     "elapsed": 553,
     "status": "ok",
     "timestamp": 1593068001117,
     "user": {
      "displayName": "Gabriel Ibarra Ontiveros",
      "photoUrl": "",
      "userId": "09517266304791574662"
     },
     "user_tz": 300
    },
    "id": "pRalJtgHJUEh"
   },
   "outputs": [],
   "source": [
    "def orderCrossOver(padres,parametros=False):\n",
    "  n = len(padres)\n",
    "  m = len(padres[0])\n",
    "  hijos = list()\n",
    "  k = 0\n",
    "  while k < n:\n",
    "    P1 = copy.deepcopy(padres[k:k+1][0])     \n",
    "    P2 = copy.deepcopy(padres[k+1:k+2][0])\n",
    "    # print(P1)\n",
    "    # print(P2)       \n",
    "    hijo1 = [None]*m\n",
    "    hijo2= [None]*m    \n",
    "    r1 = rnd.randint(0,m-1)\n",
    "    # rep = True\n",
    "    # while rep:\n",
    "    r2 = rnd.randint(0,m-1)\n",
    "      # if r1 != r2: rep = False\n",
    "    R = sorted([r1,r2])        \n",
    "    # subChain = pareja[0][R[0]:R[1]]       \n",
    "    hijo1[R[0]:R[1]] = P1[R[0]:R[1]] \n",
    "    hijo2[R[0]:R[1]] = P2[R[0]:R[1]] \n",
    "    #Producir Hijo 1\n",
    "    for i in hijo1:\n",
    "      if i != None: P2.remove(i)        \n",
    "    for i in P2:\n",
    "      for index,j in enumerate(hijo1):\n",
    "        if j == None: \n",
    "          hijo1[index] = i\n",
    "          break\n",
    "    #Producir hijo 2\n",
    "    for i in hijo2:\n",
    "      # print(i)\n",
    "      # print(pareja[0])\n",
    "      if i != None: P1.remove(i)    \n",
    "    for i in P1:\n",
    "      for index,j in enumerate(hijo2):\n",
    "        if j == None: \n",
    "          hijo2[index] = i\n",
    "          break      \n",
    "    \n",
    "    hijos.append(hijo1)\n",
    "    hijos.append(hijo2)\n",
    "    k += 2\n",
    "  return hijos"
   ]
  },
  {
   "cell_type": "markdown",
   "metadata": {
    "colab_type": "text",
    "id": "yOANfr7q5VjR"
   },
   "source": [
    "## Mutación"
   ]
  },
  {
   "cell_type": "markdown",
   "metadata": {
    "colab_type": "text",
    "id": "FhxC1SE65XwD"
   },
   "source": [
    "### Mutación Binaria"
   ]
  },
  {
   "cell_type": "code",
   "execution_count": 18,
   "metadata": {
    "colab": {},
    "colab_type": "code",
    "executionInfo": {
     "elapsed": 313,
     "status": "ok",
     "timestamp": 1593066467829,
     "user": {
      "displayName": "Gabriel Ibarra Ontiveros",
      "photoUrl": "",
      "userId": "09517266304791574662"
     },
     "user_tz": 300
    },
    "id": "P7l9hQrE5ciL"
   },
   "outputs": [],
   "source": [
    "def mutacionBinaria(individuos,parameter={\"umbral\":0.1}):\n",
    "  hijos=copy.deepcopy(individuos)\n",
    "  for elem,individuo in enumerate(individuos):\n",
    "    for index,gen in enumerate(individuo):\n",
    "      if rnd.random()<parameter[\"umbral\"]:\n",
    "        mutacion=str(abs(int(gen)-1))\n",
    "        hijos[elem]=individuo[:index]+mutacion+individuo[index+1:]\n",
    "  return hijos"
   ]
  },
  {
   "cell_type": "markdown",
   "metadata": {
    "colab_type": "text",
    "id": "wr-kPJcY5dOp"
   },
   "source": [
    "### Mutación por Inserción"
   ]
  },
  {
   "cell_type": "code",
   "execution_count": 19,
   "metadata": {
    "colab": {},
    "colab_type": "code",
    "executionInfo": {
     "elapsed": 401,
     "status": "ok",
     "timestamp": 1593068029614,
     "user": {
      "displayName": "Gabriel Ibarra Ontiveros",
      "photoUrl": "",
      "userId": "09517266304791574662"
     },
     "user_tz": 300
    },
    "id": "0pMjrQTV5g_t"
   },
   "outputs": [],
   "source": [
    "def mutacionInsercion(individuos,parameter={\"umbral\":0.1}):\n",
    "  hijos=copy.deepcopy(individuos)\n",
    "  for elem,hijo in enumerate(hijos):\n",
    "    excepciones=list()\n",
    "    for index,gen in enumerate(hijo):      \n",
    "      if random()<parameter[\"umbral\"] and gen not in excepciones :\n",
    "        posArbitraria=rnd.randint(0,len(individuos[0]))\n",
    "        genMutado = hijo.pop(index)        \n",
    "        hijo.insert(posArbitraria, genMutado ) \n",
    "        excepciones.append(genMutado)    \n",
    "  return hijos"
   ]
  },
  {
   "cell_type": "markdown",
   "metadata": {
    "colab_type": "text",
    "id": "wXonub9U5kQ7"
   },
   "source": [
    "## Algoritmo Genético Integrado"
   ]
  },
  {
   "cell_type": "code",
   "execution_count": 1,
   "metadata": {
    "colab": {},
    "colab_type": "code",
    "executionInfo": {
     "elapsed": 392,
     "status": "ok",
     "timestamp": 1593066499166,
     "user": {
      "displayName": "Gabriel Ibarra Ontiveros",
      "photoUrl": "",
      "userId": "09517266304791574662"
     },
     "user_tz": 300
    },
    "id": "ZMJGT4sJ5mjH"
   },
   "outputs": [
    {
     "ename": "NameError",
     "evalue": "name 'AptitudProporcional' is not defined",
     "output_type": "error",
     "traceback": [
      "\u001b[1;31m---------------------------------------------------------------------------\u001b[0m",
      "\u001b[1;31mNameError\u001b[0m                                 Traceback (most recent call last)",
      "\u001b[1;32m<ipython-input-1-76200ba6bbd6>\u001b[0m in \u001b[0;36m<module>\u001b[1;34m\u001b[0m\n\u001b[1;32m----> 1\u001b[1;33m def algoritmoGenetico(problema,poblacion,code,NIteracion,Aptitud=AptitudProporcional,\n\u001b[0m\u001b[0;32m      2\u001b[0m                       \u001b[0mSeleccion\u001b[0m\u001b[1;33m=\u001b[0m\u001b[0mSobranteEstocastico\u001b[0m\u001b[1;33m,\u001b[0m\u001b[0mcruza\u001b[0m\u001b[1;33m=\u001b[0m\u001b[0mcruza1Punto\u001b[0m\u001b[1;33m,\u001b[0m\u001b[0mmutacion\u001b[0m\u001b[1;33m=\u001b[0m\u001b[0mmutacionBinaria\u001b[0m\u001b[1;33m,\u001b[0m\u001b[1;33m\u001b[0m\u001b[1;33m\u001b[0m\u001b[0m\n\u001b[0;32m      3\u001b[0m                       \u001b[0mSelecParameter\u001b[0m\u001b[1;33m=\u001b[0m\u001b[1;32mFalse\u001b[0m \u001b[1;33m,\u001b[0m\u001b[0mcruzaParameter\u001b[0m\u001b[1;33m=\u001b[0m\u001b[1;32mFalse\u001b[0m\u001b[1;33m,\u001b[0m\u001b[0mmutacionParameters\u001b[0m\u001b[1;33m=\u001b[0m\u001b[1;32mFalse\u001b[0m\u001b[1;33m,\u001b[0m\u001b[1;33m\u001b[0m\u001b[1;33m\u001b[0m\u001b[0m\n\u001b[0;32m      4\u001b[0m                       codeParameter=False,case=\"minimo\"):\n\u001b[0;32m      5\u001b[0m   \u001b[0mprint\u001b[0m\u001b[1;33m(\u001b[0m\u001b[1;34m'Realizando optimizacion con GA'\u001b[0m\u001b[1;33m)\u001b[0m\u001b[1;33m\u001b[0m\u001b[1;33m\u001b[0m\u001b[0m\n",
      "\u001b[1;31mNameError\u001b[0m: name 'AptitudProporcional' is not defined"
     ]
    }
   ],
   "source": [
    "def algoritmoGenetico(problema,poblacion,code,NIteracion,Aptitud=AptitudProporcional,\n",
    "                      Seleccion=SobranteEstocastico,cruza=cruza1Punto,mutacion=mutacionBinaria,\n",
    "                      SelecParameter=False ,cruzaParameter=False,mutacionParameters=False,\n",
    "                      codeParameter=False,case=\"minimo\"):\n",
    "  print('Realizando optimizacion con GA...')\n",
    "\n",
    "  histSolucion=list()\n",
    "  bestApt = None\n",
    "  for i in range(NIteracion):\n",
    "    aptitud,probabilidad=Aptitud(problema,poblacion,code,codeParameter,case)\n",
    "    bestAptG = max(aptitud)\n",
    "    if not histSolucion or bestAptG >= bestApt:\n",
    "        bestApt = bestAptG\n",
    "        bestIndex = aptitud.index(bestApt)\n",
    "        bestSol = poblacion[bestIndex]\n",
    "        histSolucion.append((bestSol,bestApt))\n",
    "#     Historico.append(aptitud)\n",
    "    padres=Seleccion(poblacion,probabilidad,SelecParameter) #aptitud    \n",
    "    hijos=cruza(padres,cruzaParameter)\n",
    "    hijos=mutacion(hijos,mutacionParameters)\n",
    "    poblacion=copy.deepcopy(hijos)\n",
    "  decodePop= decodificarPob(poblacion,code,codeParameter)\n",
    "  print('Optimizacion finalizada')\n",
    "  return decodePop,histSolucion #,Historico"
   ]
  },
  {
   "cell_type": "markdown",
   "metadata": {
    "colab_type": "text",
    "id": "eUHiE9u77TgX"
   },
   "source": [
    "## Resolviendo Problemas"
   ]
  },
  {
   "cell_type": "markdown",
   "metadata": {
    "colab_type": "text",
    "id": "OknvoCi-7ar3"
   },
   "source": [
    "### Resolver Problema Plan de Inversión"
   ]
  },
  {
   "cell_type": "code",
   "execution_count": null,
   "metadata": {
    "colab": {
     "base_uri": "https://localhost:8080/",
     "height": 71
    },
    "colab_type": "code",
    "executionInfo": {
     "elapsed": 520,
     "status": "ok",
     "timestamp": 1593066507177,
     "user": {
      "displayName": "Gabriel Ibarra Ontiveros",
      "photoUrl": "",
      "userId": "09517266304791574662"
     },
     "user_tz": 300
    },
    "id": "XGRhmJPs7ZJY",
    "outputId": "db126de2-39e9-494f-e6d1-7ec37bb8ddfd"
   },
   "outputs": [],
   "source": [
    "# poblacion = poblacionInicial(20,[[50,300]])\n",
    "# # poblacion = [[22.359848097498308], [18.000490966289647], [19.34882629636717], [24.188415423903447], [38.92030251982626], [3.1392107782161505], [2.396101873801153], [2.6368852275487953], [38.28085839504099], [25.98472027097023], [12.9058383727712], [21.76198207366142], [7.477971663163396], [6.026557762291804], [31.100226578019175], [32.52030939941475], [26.737437715067024], [22.466419599701073], [23.05287224161532], [13.200565110778655]]\n",
    "# binPoblacion, n = codepoblacionReal2bin(poblacion,[[300,50,0.01]])\n",
    "# print(poblacion)\n",
    "# print(n)"
   ]
  },
  {
   "cell_type": "code",
   "execution_count": 70,
   "metadata": {
    "colab": {
     "base_uri": "https://localhost:8080/",
     "height": 598
    },
    "colab_type": "code",
    "executionInfo": {
     "elapsed": 519,
     "status": "ok",
     "timestamp": 1593067070222,
     "user": {
      "displayName": "Gabriel Ibarra Ontiveros",
      "photoUrl": "",
      "userId": "09517266304791574662"
     },
     "user_tz": 300
    },
    "id": "cpaaAJ38-DMU",
    "outputId": "2bcd6cfa-c0b8-427d-9868-64e5726d11e7"
   },
   "outputs": [
    {
     "name": "stdout",
     "output_type": "stream",
     "text": [
      "[36.7496829997067, 43.3956526766100, 26.6101646490446, 37.8419604234570, 40.0829518341107, 29.6368366285120, 38.6218719213705, 43.3885458501389, 41.8304428257602, 38.5876755445860, 33.0752506619501, 21.1463886810590, 41.2569637344020, 25.4474639498762, 38.3659903356716, 41.3258700905565, 30.3748596551075, 34.4070818868851, 30.5978826195930, 40.2911042121145]\n",
      "[38.2036321974833, 43.4469651581562, 41.2569637344020, 40.0657879523644, 37.6042221476901, 30.5978826195930, 38.4843697594620, 43.4100932702295, 41.5477941843943, 43.4341728705081, 39.8505645806280, 41.6668544302165, 37.9006305606438, 31.4708636836628, 43.2414285700635, 41.0679579830086, 43.4100932702295, 41.2569637344020, 39.1849356300685, 43.4590049582955]\n",
      "[43.4455318486158, 41.3258700905565, 43.0141056769569, 42.9745463336420, 43.4100932702295, 43.4100932702295, 43.4469651581562, 41.0679579830086, 43.3669506530636, 42.0799700724968, 43.0248196657713, 42.8810945516082, 41.6668544302165, 43.4341728705081, 43.4100932702295, 43.4100932702295, 43.4380786390057, 43.4558158445681, 43.4317720770280, 43.2719102862893]\n",
      "[43.2569083130998, 43.3046016880564, 43.4469651581562, 43.4558158445681, 43.4455318486158, 43.4380786390057, 43.4341728705081, 43.4558158445681, 43.0184056055781, 43.4731588900069, 43.2335095348528, 43.3180270207515, 43.4602471598972, 38.7439898942122, 43.4380786390057, 43.4380786390057, 43.4602471598972, 43.4146679165126, 43.4418649650416, 43.4590049582955]\n",
      "[43.4469651581562, 43.4602471598972, 42.3093115432062, 43.4217389102452, 43.4590049582955, 43.4558158445681, 42.9700552970821, 43.0184056055781, 43.4997109492427, 43.4930341156337, 43.4082299678270, 43.4146679165126, 43.4731588900069, 43.4602471598972, 43.4455318486158, 43.4590049582955, 43.4418649650416, 43.4490792897282, 43.4756313489641, 43.4632690541781]\n",
      "[43.4705669885880, 43.4571058231544, 43.4571058231544, 43.4953751878830, 43.4989465174878, 43.4802179394933, 43.4997109492427, 43.4602471598972, 43.4972384902855, 43.4504648222839, 43.4930341156337, 43.4632690541781, 43.4997109492427, 43.4756313489641, 43.4317720770280, 43.4301476595489, 43.4678556447074, 43.4538450439501, 43.4886266887970, 43.4983851379178]\n",
      "[43.4930341156337, 43.4997109492427, 43.4756313489641, 43.4997109492427, 43.4949451950209, 43.4930341156337, 43.4989465174878, 43.4997109492427, 43.4997109492427, 43.4983851379178, 43.4969040513928, 43.4756313489641, 43.4991376254265, 43.4997109492427, 43.4963665603151, 43.4993884545961, 43.4802179394933, 43.4469651581562, 43.4620746295612, 43.4469651581562]\n",
      "[43.4983851379178, 43.4997109492427, 43.4802179394933, 43.4993884545961, 43.4997109492427, 43.4997109492427, 43.4997109492427, 43.4997109492427, 43.4969040513928, 43.4993884545961, 43.4997109492427, 43.4997109492427, 43.4997109492427, 43.4989465174878, 43.4997109492427, 43.4949451950209, 43.4993884545961, 43.4997109492427, 43.4997109492427, 43.2719102862893]\n",
      "[43.4997109492427, 43.4997109492427, 43.4997109492427, 43.4997109492427, 39.5185503698416, 43.4997109492427, 43.4997109492427, 43.4997109492427, 43.4997109492427, 43.4997109492427, 43.4997109492427, 43.4469651581562, 43.4997109492427, 43.4997109492427, 43.4997109492427, 43.4997109492427, 43.4997109492427, 43.4997109492427, 43.4997109492427, 43.4997109492427]\n",
      "[43.4997109492427, 43.4997109492427, 43.4997109492427, 43.4997109492427, 43.4997109492427, 43.4997109492427, 43.4997109492427, 43.4997109492427, 43.4997109492427, 43.4997109492427, 43.4997109492427, 43.4997109492427, 43.4997109492427, 43.4997109492427, 43.4997109492427, 43.4997109492427, 43.4997109492427, 43.2719102862893, 43.4997109492427, 43.4997109492427]\n",
      "[43.4997109492427, 43.4997109492427, 43.4469651581562, 43.4997109492427, 43.4997109492427, 43.4997109492427, 43.4997109492427, 43.4997109492427, 43.4997109492427, 43.4997109492427, 43.4997109492427, 43.4997109492427, 43.4997109492427, 43.4997109492427, 43.4997109492427, 43.4997109492427, 43.4997109492427, 43.4997109492427, 43.4997109492427, 43.4997109492427]\n",
      "[43.4997109492427, 43.4997109492427, 43.4997109492427, 43.4997109492427, 43.4997109492427, 43.4997109492427, 43.2719102862893, 43.2719102862893, 43.4997109492427, 43.4989465174878, 43.4997109492427, 43.4469651581562, 43.4997109492427, 43.4997109492427, 43.4989465174878, 43.4997109492427, 43.4997109492427, 43.4997109492427, 43.4997109492427, 43.4997109492427]\n",
      "[43.4997109492427, 43.4469651581562, 43.4989465174878, 43.4997109492427, 43.4997109492427, 43.4997109492427, 43.4997109492427, 43.4997109492427, 43.4997109492427, 39.5185503698416, 43.4997109492427, 43.4997109492427, 43.4997109492427, 43.4997109492427, 43.4997109492427, 43.4997109492427, 43.4997109492427, 43.4997109492427, 43.4997109492427, 43.4997109492427]\n",
      "[43.4997109492427, 43.4997109492427, 43.4997109492427, 43.4997109492427, 43.4997109492427, 43.4997109492427, 43.4997109492427, 43.4997109492427, 43.4997109492427, 43.4997109492427, 43.4997109492427, 43.4997109492427, 43.4997109492427, 43.4997109492427, 43.4997109492427, 43.4997109492427, 43.4997109492427, 43.4997109492427, 43.4997109492427, 43.4997109492427]\n",
      "[43.4997109492427, 43.4997109492427, 43.4997109492427, 43.4997109492427, 43.4997109492427, 43.4997109492427, 43.4997109492427, 43.4997109492427, 43.4997109492427, 43.4997109492427, 43.2719102862893, 43.4997109492427, 43.4997109492427, 43.4997109492427, 43.4997109492427, 43.4997109492427, 43.4997109492427, 43.4997109492427, 43.4997109492427, 43.4997109492427]\n",
      "[43.4997109492427, 43.4997109492427, 43.4997109492427, 43.4997109492427, 43.4997109492427, 43.4997109492427, 43.4997109492427, 43.4997109492427, 43.4997109492427, 43.4993884545961, 43.4997109492427, 43.4997109492427, 43.4997109492427, 43.4997109492427, 43.4993884545961, 43.4997109492427, 43.4997109492427, 43.4997109492427, 43.4979909777942, 43.4997109492427]\n",
      "[43.4997109492427, 43.4997109492427, 43.4997109492427, 43.4997109492427, 43.4997109492427, 39.5185503698416, 43.4997109492427, 43.4997109492427, 43.4997109492427, 43.4997109492427, 43.4997109492427, 43.4997109492427, 43.4997109492427, 43.4997109492427, 43.2719102862893, 43.4989465174878, 43.4997109492427, 43.4997109492427, 43.4997109492427, 43.4997109492427]\n",
      "[43.4989465174878, 43.4979909777942, 43.4997109492427, 43.4997109492427, 43.4997109492427, 43.4997109492427, 43.4993884545961, 43.4997109492427, 43.4997109492427, 43.4997109492427, 43.4997109492427, 43.4997109492427, 43.4997109492427, 43.4997109492427, 43.4997109492427, 43.4997109492427, 43.4997109492427, 43.4997109492427, 43.4997109492427, 43.4997109492427]\n",
      "[43.4997109492427, 43.4802179394933, 43.4997109492427, 43.4997109492427, 43.4997109492427, 43.4997109492427, 43.4997109492427, 43.4997109492427, 43.4997109492427, 43.4997109492427, 43.4997109492427, 43.4997109492427, 43.4997109492427, 43.4997109492427, 39.5185503698416, 43.4997109492427, 43.4997109492427, 43.4997109492427, 43.4997109492427, 43.4997109492427]\n",
      "[43.4997109492427, 43.2719102862893, 43.4997109492427, 43.4997109492427, 43.4997109492427, 43.4997109492427, 43.4997109492427, 43.4997109492427, 43.4979909777942, 43.4997109492427, 43.4997109492427, 43.4997109492427, 43.4997109492427, 43.4997109492427, 43.4997109492427, 43.4997109492427, 43.4997109492427, 43.4997109492427, 43.4997109492427, 43.4997109492427]\n",
      "[43.4997109492427, 43.4997109492427, 43.4997109492427, 43.4997109492427, 43.4997109492427, 43.4997109492427, 43.4997109492427, 43.4997109492427, 43.4997109492427, 43.4997109492427, 43.4997109492427, 43.4997109492427, 43.4997109492427, 43.4997109492427, 43.4997109492427, 43.4997109492427, 43.4997109492427, 43.4993884545961, 43.4997109492427, 43.4997109492427]\n",
      "[43.4997109492427, 43.4997109492427, 43.4997109492427, 43.4997109492427, 27.9786885982137, 43.4997109492427, 43.4997109492427, 43.4997109492427, 43.4997109492427, 43.4997109492427, 43.4997109492427, 43.4997109492427, 43.4997109492427, 43.4997109492427, 43.4997109492427, 43.4997109492427, 43.4802179394933, 43.4997109492427, 43.4997109492427, 43.4997109492427]\n",
      "[43.4997109492427, 43.4469651581562, 43.2719102862893, 43.4997109492427, 43.4997109492427, 43.4997109492427, 43.4997109492427, 43.4997109492427, 43.4997109492427, 43.4997109492427, 43.4997109492427, 43.4997109492427, 43.4997109492427, 43.4997109492427, 43.4997109492427, 43.4997109492427, 43.4997109492427, 43.4997109492427, 43.4997109492427, 43.4997109492427]\n",
      "[43.4997109492427, 43.4997109492427, 43.4997109492427, 43.4997109492427, 43.4997109492427, 43.4997109492427, 43.4997109492427, 43.4997109492427, 43.4997109492427, 43.4997109492427, 43.4997109492427, 43.4997109492427, 43.4997109492427, 43.4997109492427, 43.4997109492427, 43.4997109492427, 43.4997109492427, 43.4997109492427, 43.4997109492427, 43.4997109492427]\n",
      "[43.4997109492427, 43.4979909777942, 43.4997109492427, 43.4997109492427, 43.4997109492427, 43.4997109492427, 43.4997109492427, 27.9786885982137, 43.4997109492427, 43.4997109492427, 43.4997109492427, 43.4997109492427, 43.4993884545961, 43.4997109492427, 43.4997109492427, 43.4997109492427, 43.4997109492427, 43.4997109492427, 43.4997109492427, 43.4469651581562]\n",
      "[43.4997109492427, 43.4997109492427, 43.4989465174878, 42.4876033057851, 43.4997109492427, 43.4997109492427, 43.4997109492427, 43.4997109492427, 43.4997109492427, 43.4997109492427, 43.4997109492427, 43.4997109492427, 43.4997109492427, 43.4997109492427, 43.4997109492427, 43.4979909777942, 43.4997109492427, 43.4997109492427, 43.4997109492427, 43.4997109492427]\n",
      "[43.4997109492427, 43.4997109492427, 43.4997109492427, 43.4997109492427, 43.4997109492427, 43.4993884545961, 43.4979909777942, 43.4997109492427, 43.4997109492427, 43.4997109492427, 43.4997109492427, 43.4997109492427, 43.4997109492427, 43.4997109492427, 43.4997109492427, 39.5185503698416, 43.4997109492427, 43.4997109492427, 43.4997109492427, 43.4997109492427]\n",
      "[43.4997109492427, 43.4997109492427, 43.4997109492427, 43.4997109492427, 43.4997109492427, 43.4997109492427, 43.4997109492427, 43.4997109492427, 43.4997109492427, 43.4997109492427, 43.4997109492427, 43.4997109492427, 43.4997109492427, 43.4997109492427, 43.4997109492427, 43.4997109492427, 43.4997109492427, 43.4997109492427, 43.4997109492427, 43.4997109492427]\n",
      "[43.4997109492427, 43.4997109492427, 43.4997109492427, 43.4997109492427, 43.4997109492427, 43.4997109492427, 43.4997109492427, 43.4997109492427, 43.4997109492427, 43.4997109492427, 43.2719102862893, 43.4997109492427, 43.4997109492427, 43.4997109492427, 43.4997109492427, 43.4997109492427, 43.4997109492427, 43.4997109492427, 43.4997109492427, 43.4997109492427]\n",
      "[43.4997109492427, 43.4997109492427, 43.4997109492427, 43.4997109492427, 43.4997109492427, 43.4997109492427, 43.4997109492427, 43.4997109492427, 43.4997109492427, 43.4997109492427, 43.4997109492427, 43.4997109492427, 43.4997109492427, 43.4997109492427, 43.4997109492427, 43.4997109492427, 43.4997109492427, 43.4997109492427, 43.4997109492427, 43.4979909777942]\n",
      "la poblacion final:  \n",
      "['1001101000', '1001101000', '1001101000', '1001101000', '1001101000', '1001101000', '1000101000', '1001101000', '1001101000', '1001101000', '1001101000', '1011101000', '1001101000', '1001101000', '1001101000', '1001101000', '1001101000', '1001101000', '1001101000', '1001101000']\n",
      "[[200.53763440860214], [200.53763440860214], [200.53763440860214], [200.53763440860214], [200.53763440860214], [200.53763440860214], [184.89736070381232], [200.53763440860214], [200.53763440860214], [200.53763440860214], [200.53763440860214], [231.8181818181818], [200.53763440860214], [200.53763440860214], [200.53763440860214], [200.53763440860214], [200.53763440860214], [200.53763440860214], [200.53763440860214], [200.53763440860214]]\n"
     ]
    }
   ],
   "source": [
    "# Poblacion, decoPoblacion, Historial = algoritmoGenetico(problema_inversion,binPoblacion,codeBinary2Real,30,\n",
    "#                                                         Aptitud=AptitudProporcional,Seleccion=torneo,\n",
    "#                                                         cruza=cruzaNPunto,mutacion=mutacionBinaria,SelecParameter={\"p\":4}, #{\"p\":2}\n",
    "#                                                         cruzaParameter={\"n\":3},mutacionParameters={'umbral':0.01},\n",
    "#                                                         codeParameter=[{'Xu':300,'Xl':50,'n':n[0]}],case='maximo')\n",
    "\n",
    "# print(\"la poblacion final:  \")\n",
    "# print(Poblacion)\n",
    "# print(decoPoblacion)"
   ]
  }
 ],
 "metadata": {
  "colab": {
   "authorship_tag": "ABX9TyOY1PTzVh6d6mSeTMH6GjXe",
   "collapsed_sections": [
    "vK8nlUI9Dnfb",
    "ZOXu004ZEOa4",
    "pTfzJhKpEXgc",
    "PtV1n2n99ELr",
    "BHY53QkQ2FPt",
    "PpfhH9ZW2YT_",
    "7LFDFnYe2euI",
    "dKGC0GtX20D8",
    "r03Wo7Rq22sI",
    "I-zn48Sz3CZw",
    "h0js4NYb3FFM",
    "FZv6t7e83NFn",
    "boHlCxjv3TGc",
    "kmt3USHL33V4",
    "U06oH7kB383z",
    "Umen8heA4So2",
    "4VbaR3X-4ZuL",
    "VI0rnyda4l0L",
    "VKX1ksrn4pul",
    "TX8e489M404i",
    "tAbG2Fq_JRYh",
    "yOANfr7q5VjR",
    "FhxC1SE65XwD",
    "wr-kPJcY5dOp",
    "OknvoCi-7ar3",
    "kbgSdM-ZLikE",
    "0p8Lv-kpN8yq"
   ],
   "name": "Aplicando algoritmoGenetico.ipynb",
   "provenance": [
    {
     "file_id": "1ucL3F5nOxUAvp_YnhihD-0fNSltF4XCT",
     "timestamp": 1593064680480
    }
   ]
  },
  "kernelspec": {
   "display_name": "Python 3",
   "language": "python",
   "name": "python3"
  },
  "language_info": {
   "codemirror_mode": {
    "name": "ipython",
    "version": 3
   },
   "file_extension": ".py",
   "mimetype": "text/x-python",
   "name": "python",
   "nbconvert_exporter": "python",
   "pygments_lexer": "ipython3",
   "version": "3.8.5"
  }
 },
 "nbformat": 4,
 "nbformat_minor": 1
}
